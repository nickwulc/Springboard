{
 "cells": [
  {
   "cell_type": "code",
   "execution_count": 19,
   "metadata": {
    "scrolled": false
   },
   "outputs": [
    {
     "name": "stdout",
     "output_type": "stream",
     "text": [
      "2.6.0\n",
      "2. Query all tasks\n"
     ]
    },
    {
     "ename": "OperationalError",
     "evalue": "near \"FROM\": syntax error",
     "output_type": "error",
     "traceback": [
      "\u001b[1;31m---------------------------------------------------------------------------\u001b[0m",
      "\u001b[1;31mOperationalError\u001b[0m                          Traceback (most recent call last)",
      "\u001b[1;32m<ipython-input-19-59dd59b03d76>\u001b[0m in \u001b[0;36m<module>\u001b[1;34m\u001b[0m\n\u001b[0;32m     57\u001b[0m \u001b[1;33m\u001b[0m\u001b[0m\n\u001b[0;32m     58\u001b[0m \u001b[1;32mif\u001b[0m \u001b[0m__name__\u001b[0m \u001b[1;33m==\u001b[0m \u001b[1;34m'__main__'\u001b[0m\u001b[1;33m:\u001b[0m\u001b[1;33m\u001b[0m\u001b[1;33m\u001b[0m\u001b[0m\n\u001b[1;32m---> 59\u001b[1;33m     \u001b[0mmain\u001b[0m\u001b[1;33m(\u001b[0m\u001b[1;33m)\u001b[0m\u001b[1;33m\u001b[0m\u001b[1;33m\u001b[0m\u001b[0m\n\u001b[0m",
      "\u001b[1;32m<ipython-input-19-59dd59b03d76>\u001b[0m in \u001b[0;36mmain\u001b[1;34m()\u001b[0m\n\u001b[0;32m     53\u001b[0m     \u001b[1;32mwith\u001b[0m \u001b[0mconn\u001b[0m\u001b[1;33m:\u001b[0m\u001b[1;33m\u001b[0m\u001b[1;33m\u001b[0m\u001b[0m\n\u001b[0;32m     54\u001b[0m         \u001b[0mprint\u001b[0m\u001b[1;33m(\u001b[0m\u001b[1;34m\"2. Query all tasks\"\u001b[0m\u001b[1;33m)\u001b[0m\u001b[1;33m\u001b[0m\u001b[1;33m\u001b[0m\u001b[0m\n\u001b[1;32m---> 55\u001b[1;33m         \u001b[0mselect_all_tasks\u001b[0m\u001b[1;33m(\u001b[0m\u001b[0mconn\u001b[0m\u001b[1;33m)\u001b[0m\u001b[1;33m\u001b[0m\u001b[1;33m\u001b[0m\u001b[0m\n\u001b[0m\u001b[0;32m     56\u001b[0m \u001b[1;33m\u001b[0m\u001b[0m\n\u001b[0;32m     57\u001b[0m \u001b[1;33m\u001b[0m\u001b[0m\n",
      "\u001b[1;32m<ipython-input-19-59dd59b03d76>\u001b[0m in \u001b[0;36mselect_all_tasks\u001b[1;34m(conn)\u001b[0m\n\u001b[0;32m     38\u001b[0m \u001b[1;33m\u001b[0m\u001b[0m\n\u001b[0;32m     39\u001b[0m \"\"\"\n\u001b[1;32m---> 40\u001b[1;33m     \u001b[0mcur\u001b[0m\u001b[1;33m.\u001b[0m\u001b[0mexecute\u001b[0m\u001b[1;33m(\u001b[0m\u001b[0mquery1\u001b[0m\u001b[1;33m)\u001b[0m\u001b[1;33m\u001b[0m\u001b[1;33m\u001b[0m\u001b[0m\n\u001b[0m\u001b[0;32m     41\u001b[0m \u001b[1;33m\u001b[0m\u001b[0m\n\u001b[0;32m     42\u001b[0m     \u001b[0mrows\u001b[0m \u001b[1;33m=\u001b[0m \u001b[0mcur\u001b[0m\u001b[1;33m.\u001b[0m\u001b[0mfetchall\u001b[0m\u001b[1;33m(\u001b[0m\u001b[1;33m)\u001b[0m\u001b[1;33m\u001b[0m\u001b[1;33m\u001b[0m\u001b[0m\n",
      "\u001b[1;31mOperationalError\u001b[0m: near \"FROM\": syntax error"
     ]
    }
   ],
   "source": [
    "import sqlite3\n",
    "from sqlite3 import Error\n",
    "\n",
    " \n",
    "def create_connection(db_file):\n",
    "    \"\"\" create a database connection to the SQLite database\n",
    "        specified by the db_file\n",
    "    :param db_file: database file\n",
    "    :return: Connection object or None\n",
    "    \"\"\"\n",
    "    conn = None\n",
    "    try:\n",
    "        conn = sqlite3.connect(db_file)\n",
    "        print(sqlite3.version)\n",
    "    except Error as e:\n",
    "        print(e)\n",
    " \n",
    "    return conn\n",
    "\n",
    " \n",
    "def select_all_tasks(conn):\n",
    "    \"\"\"\n",
    "    Query all rows in the tasks table\n",
    "    :param conn: the Connection object\n",
    "    :return:\n",
    "    \"\"\"\n",
    "    cur = conn.cursor()\n",
    "    \n",
    "    query1 = \"\"\"\n",
    "    \n",
    "    \n",
    "\"\"\"\n",
    "    cur.execute(query1)\n",
    " \n",
    "    rows = cur.fetchall()\n",
    " \n",
    "    for row in rows:\n",
    "        print(row)\n",
    "\n",
    "\n",
    "def main():\n",
    "    database = \"sqlite_db_pythonsqlite.db\"\n",
    " \n",
    "    # create a database connection\n",
    "    conn = create_connection(database)\n",
    "    with conn: \n",
    "        print(\"2. Query all tasks\")\n",
    "        select_all_tasks(conn)\n",
    " \n",
    " \n",
    "if __name__ == '__main__':\n",
    "    main()"
   ]
  },
  {
   "cell_type": "code",
   "execution_count": 2,
   "metadata": {},
   "outputs": [
    {
     "ename": "SyntaxError",
     "evalue": "invalid syntax (<ipython-input-2-18a7b40b2346>, line 1)",
     "output_type": "error",
     "traceback": [
      "\u001b[1;36m  File \u001b[1;32m\"<ipython-input-2-18a7b40b2346>\"\u001b[1;36m, line \u001b[1;32m1\u001b[0m\n\u001b[1;33m    *(PART, 2:, SQLite)\u001b[0m\n\u001b[1;37m             ^\u001b[0m\n\u001b[1;31mSyntaxError\u001b[0m\u001b[1;31m:\u001b[0m invalid syntax\n"
     ]
    }
   ],
   "source": [
    "/* PART 2: SQLite\n",
    "/* We now want you to jump over to a local instance of the database on your machine. \n",
    "\n",
    "Copy and paste the LocalSQLConnection.py script into an empty Jupyter notebook, and run it. \n",
    "\n",
    "Make sure that the SQLFiles folder containing thes files is in your working directory, and\n",
    "that you haven't changed the name of the .db file from 'sqlite\\db\\pythonsqlite'.\n",
    "\n",
    "You should see the output from the initial query 'SELECT * FROM FACILITIES'.\n",
    "\n",
    "Complete the remaining tasks in the Jupyter interface. If you struggle, feel free to go back\n",
    "to the PHPMyAdmin interface as and when you need to. \n",
    "\n",
    "You'll need to paste your query into value of the 'query1' variable and run the code block again to get an output.\n",
    " \n",
    "QUESTIONS:\n",
    "/* Q10: Produce a list of facilities with a total revenue less than 1000.\n",
    "The output of facility name and total revenue, sorted by revenue. Remember\n",
    "that there's a different cost for guests and members! */\n",
    "\n",
    "SELECT \n",
    "    name,\n",
    "    SUM(CASE WHEN memid=0\n",
    "             THEN guestcost * slots\n",
    "             ELSE membercost * slots\n",
    "         END) AS Revenue    \n",
    "FROM Bookings AS b \n",
    "LEFT JOIN Facilities AS f on b.facid = f.facid\n",
    "GROUP BY name\n",
    "HAVING Revenue < 1000.0\n",
    "\n",
    "/* Q11: Produce a report of members and who recommended them in alphabetic surname,firstname order */\n",
    "   \n",
    "    SELECT (m.surname || ' ' ||m.firstname) AS 'Member Names', \n",
    "           (m1.firstname || ' ' || m1.surname) AS 'Recom Names'\n",
    "    FROM Members AS m\n",
    "    INNER JOIN Members AS m1 on m.recommendedby = m1.memid\n",
    "    WHERE m.recommendedby > 0\n",
    "    ORDER BY m.surname ASC\n",
    "    \n",
    "    \n",
    "\n",
    "/* Q12: Find the facilities with their usage by member, but not guests */\n",
    "SELECT f.name, SUM(b.slots) AS 'Total Bookings:' \n",
    "FROM Bookings AS b\n",
    "INNER JOIN Facilities AS f on f.facid = b.facid\n",
    "WHERE memid > 0\n",
    "GROUP BY b.facid\n",
    "ORDER BY SUM(b.slots) DESC\n",
    "\n",
    "\n",
    "/* Q13: Find the facilities usage by month, but not guests */\n",
    "SELECT f.name AS 'Facility Name:',\n",
    "SUM(CASE WHEN EXTRACT(MONTH FROM starttime ) =7 THEN 1 ELSE 0 END) AS July,\n",
    "SUM(CASE WHEN EXTRACT(MONTH FROM starttime ) =8 THEN 1 ELSE 0 END) AS August,\n",
    "SUM(CASE WHEN EXTRACT(MONTH FROM starttime ) =9 THEN 1 ELSE 0 END) AS September\n",
    "FROM Bookings AS b\n",
    "INNER JOIN Facilities AS f ON f.facid = b.facid\n",
    "WHERE memid >0\n",
    "GROUP BY name    \n"
   ]
  },
  {
   "cell_type": "code",
   "execution_count": null,
   "metadata": {},
   "outputs": [],
   "source": []
  }
 ],
 "metadata": {
  "kernelspec": {
   "display_name": "Python 3",
   "language": "python",
   "name": "python3"
  },
  "language_info": {
   "codemirror_mode": {
    "name": "ipython",
    "version": 3
   },
   "file_extension": ".py",
   "mimetype": "text/x-python",
   "name": "python",
   "nbconvert_exporter": "python",
   "pygments_lexer": "ipython3",
   "version": "3.8.5"
  }
 },
 "nbformat": 4,
 "nbformat_minor": 4
}
